{
 "cells": [
  {
   "cell_type": "code",
   "execution_count": 1,
   "id": "351f91b7",
   "metadata": {},
   "outputs": [],
   "source": [
    "import tensorflow as tf\n",
    "import spacy\n",
    "import pickle\n",
    "import re\n",
    "import numpy as np"
   ]
  },
  {
   "cell_type": "code",
   "execution_count": 2,
   "id": "5831d852",
   "metadata": {},
   "outputs": [
    {
     "name": "stderr",
     "output_type": "stream",
     "text": [
      "WARNING:absl:Compiled the loaded model, but the compiled metrics have yet to be built. `model.compile_metrics` will be empty until you train or evaluate the model.\n"
     ]
    }
   ],
   "source": [
    "nlp = spacy.load('../artifacts/models/spacy_model/')\n",
    "nn_model = tf.keras.models.load_model('../artifacts/models/nn_model.h5')"
   ]
  },
  {
   "cell_type": "code",
   "execution_count": 3,
   "id": "0f0e6a67",
   "metadata": {},
   "outputs": [],
   "source": [
    "with open('../artifacts/models/stop_word_edit.pkl', 'rb') as f:\n",
    "    STOP_WORDS_EDIT = pickle.load(f)"
   ]
  },
  {
   "cell_type": "code",
   "execution_count": 4,
   "id": "dad38fa9",
   "metadata": {},
   "outputs": [],
   "source": [
    "def clear_text(text):\n",
    "    doc = nlp(str(text))\n",
    "    clear = \"\"\n",
    "    for i in doc:\n",
    "        if i.like_email or i.like_url or i.is_punct or i.is_currency or i.like_num or i.text in STOP_WORDS_EDIT:\n",
    "            continue\n",
    "        i = i.lemma_\n",
    "        i = i.lower()\n",
    "        i = re.sub(\"[^a-zA-Z\\s']\", '', i)\n",
    "        clear =clear +  i+\" \"\n",
    "    clear = nlp(clear).vector\n",
    "    return clear "
   ]
  },
  {
   "cell_type": "code",
   "execution_count": null,
   "id": "8a5afef5",
   "metadata": {},
   "outputs": [],
   "source": []
  },
  {
   "cell_type": "code",
   "execution_count": 5,
   "id": "a98ac645",
   "metadata": {},
   "outputs": [],
   "source": [
    "def get_pred(predicted):\n",
    "    predicted = np.argmax(predicted[0])\n",
    "    if predicted == 1:\n",
    "        print('Positive')\n",
    "    else:\n",
    "        print('negative')"
   ]
  },
  {
   "cell_type": "code",
   "execution_count": null,
   "id": "670cda2e",
   "metadata": {},
   "outputs": [],
   "source": []
  },
  {
   "cell_type": "code",
   "execution_count": 8,
   "id": "57f072fd",
   "metadata": {},
   "outputs": [
    {
     "name": "stdout",
     "output_type": "stream",
     "text": [
      "\u001b[1m1/1\u001b[0m \u001b[32m━━━━━━━━━━━━━━━━━━━━\u001b[0m\u001b[37m\u001b[0m \u001b[1m0s\u001b[0m 17ms/step\n",
      "negative\n"
     ]
    }
   ],
   "source": [
    "text = \"I hate it\"\n",
    "text = clear_text(text)\n",
    "pred = nn_model.predict(text.reshape(1,300))\n",
    "get_pred(pred)"
   ]
  },
  {
   "cell_type": "code",
   "execution_count": 7,
   "id": "792c145a",
   "metadata": {},
   "outputs": [
    {
     "name": "stdout",
     "output_type": "stream",
     "text": [
      "\u001b[1m1/1\u001b[0m \u001b[32m━━━━━━━━━━━━━━━━━━━━\u001b[0m\u001b[37m\u001b[0m \u001b[1m0s\u001b[0m 18ms/step\n",
      "Positive\n"
     ]
    }
   ],
   "source": [
    "text2 = 'Cool. This is awesome..<3'\n",
    "text2 = clear_text(text2)\n",
    "pred2 = nn_model.predict(text2.reshape(1,300))\n",
    "get_pred(pred2)"
   ]
  },
  {
   "cell_type": "code",
   "execution_count": null,
   "id": "4fd52e8f",
   "metadata": {},
   "outputs": [],
   "source": []
  },
  {
   "cell_type": "code",
   "execution_count": null,
   "id": "c5e52416",
   "metadata": {},
   "outputs": [],
   "source": []
  },
  {
   "cell_type": "code",
   "execution_count": null,
   "id": "a2e4f714",
   "metadata": {},
   "outputs": [],
   "source": []
  },
  {
   "cell_type": "code",
   "execution_count": null,
   "id": "a0851d13",
   "metadata": {},
   "outputs": [],
   "source": []
  },
  {
   "cell_type": "code",
   "execution_count": null,
   "id": "45df4353",
   "metadata": {},
   "outputs": [],
   "source": []
  },
  {
   "cell_type": "code",
   "execution_count": null,
   "id": "be41a11c",
   "metadata": {},
   "outputs": [],
   "source": []
  }
 ],
 "metadata": {
  "kernelspec": {
   "display_name": "Python 3 (ipykernel)",
   "language": "python",
   "name": "python3"
  },
  "language_info": {
   "codemirror_mode": {
    "name": "ipython",
    "version": 3
   },
   "file_extension": ".py",
   "mimetype": "text/x-python",
   "name": "python",
   "nbconvert_exporter": "python",
   "pygments_lexer": "ipython3",
   "version": "3.11.5"
  }
 },
 "nbformat": 4,
 "nbformat_minor": 5
}
