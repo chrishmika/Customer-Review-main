{
 "cells": [
  {
   "cell_type": "code",
   "execution_count": 64,
   "id": "0a006a97",
   "metadata": {},
   "outputs": [],
   "source": [
    "import json\n",
    "from kaggle.api.kaggle_api_extended import KaggleApi\n",
    "import os\n",
    "import zipfile"
   ]
  },
  {
   "cell_type": "code",
   "execution_count": 41,
   "id": "193f3846",
   "metadata": {},
   "outputs": [
    {
     "data": {
      "text/plain": [
       "{'username': 'savidyaperera', 'key': 'b3e4f9408bc14890a57d842d808326d6'}"
      ]
     },
     "execution_count": 41,
     "metadata": {},
     "output_type": "execute_result"
    }
   ],
   "source": [
    "with open('../artifacts/kaggle.json', 'r') as f:\n",
    "    data = json.load(f)\n",
    "data"
   ]
  },
  {
   "cell_type": "code",
   "execution_count": 42,
   "id": "52cf346a",
   "metadata": {},
   "outputs": [],
   "source": [
    "os.environ[\"KAGGLE_USERNAME\"] = data['username']\n",
    "os.environ[\"KAGGLE_KEY\"] = data['key']"
   ]
  },
  {
   "cell_type": "code",
   "execution_count": 43,
   "id": "254c406b",
   "metadata": {},
   "outputs": [],
   "source": [
    "api = KaggleApi()\n",
    "api.authenticate()"
   ]
  },
  {
   "cell_type": "code",
   "execution_count": null,
   "id": "37c99589",
   "metadata": {},
   "outputs": [],
   "source": []
  },
  {
   "cell_type": "code",
   "execution_count": 61,
   "id": "f99b7f3e",
   "metadata": {},
   "outputs": [
    {
     "name": "stdout",
     "output_type": "stream",
     "text": [
      "Dataset URL: https://www.kaggle.com/datasets/mansithummar67/flipkart-product-review-dataset\n",
      "Dataset URL: https://www.kaggle.com/datasets/yeshmesh/inconsistent-and-consistent-amazon-reviews\n",
      "Dataset URL: https://www.kaggle.com/datasets/jocelyndumlao/consumer-review-of-clothing-product\n",
      "Dataset URL: https://www.kaggle.com/datasets/niraliivaghani/flipkart-product-customer-reviews-dataset\n",
      "Dataset URL: https://www.kaggle.com/datasets/tarkkaanko/amazon\n",
      "Dataset URL: https://www.kaggle.com/datasets/nehaprabhavalkar/indian-products-on-amazon\n",
      "Dataset URL: https://www.kaggle.com/datasets/dineshpiyasamara/sentiment-analysis-dataset\n"
     ]
    }
   ],
   "source": [
    "api.dataset_download_files('mansithummar67/flipkart-product-review-dataset', path = '../artifacts/')\n",
    "api.dataset_download_files('yeshmesh/inconsistent-and-consistent-amazon-reviews', path = '../artifacts/')\n",
    "api.dataset_download_files('jocelyndumlao/consumer-review-of-clothing-product', path = '../artifacts/')\n",
    "api.dataset_download_files('niraliivaghani/flipkart-product-customer-reviews-dataset', path='../artifacts/')\n",
    "api.dataset_download_files('tarkkaanko/amazon', path='../artifacts/')\n",
    "api.dataset_download_files('nehaprabhavalkar/indian-products-on-amazon', path='../artifacts/')\n",
    "api.dataset_download_files('dineshpiyasamara/sentiment-analysis-dataset', path='../artifacts/')"
   ]
  },
  {
   "cell_type": "code",
   "execution_count": 67,
   "id": "cfe0ff72",
   "metadata": {},
   "outputs": [],
   "source": [
    "for i in os.listdir('../artifacts/'):\n",
    "    if '.zip' in i:\n",
    "        with zipfile.ZipFile(os.path.join('../artifacts/',i)) as f:\n",
    "            f.extractall('../artifacts/')"
   ]
  },
  {
   "cell_type": "code",
   "execution_count": null,
   "id": "1d8b45a5",
   "metadata": {},
   "outputs": [],
   "source": []
  },
  {
   "cell_type": "code",
   "execution_count": null,
   "id": "47456ace",
   "metadata": {},
   "outputs": [],
   "source": []
  },
  {
   "cell_type": "code",
   "execution_count": null,
   "id": "3e2cebf7",
   "metadata": {},
   "outputs": [],
   "source": []
  },
  {
   "cell_type": "code",
   "execution_count": null,
   "id": "d6387e11",
   "metadata": {},
   "outputs": [],
   "source": []
  }
 ],
 "metadata": {
  "kernelspec": {
   "display_name": "Python 3 (ipykernel)",
   "language": "python",
   "name": "python3"
  },
  "language_info": {
   "codemirror_mode": {
    "name": "ipython",
    "version": 3
   },
   "file_extension": ".py",
   "mimetype": "text/x-python",
   "name": "python",
   "nbconvert_exporter": "python",
   "pygments_lexer": "ipython3",
   "version": "3.11.5"
  }
 },
 "nbformat": 4,
 "nbformat_minor": 5
}
